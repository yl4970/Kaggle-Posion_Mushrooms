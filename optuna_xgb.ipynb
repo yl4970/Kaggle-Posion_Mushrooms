{
  "nbformat": 4,
  "nbformat_minor": 0,
  "metadata": {
    "colab": {
      "provenance": [],
      "authorship_tag": "ABX9TyOlARezVvGwUqgckALnJR+x",
      "include_colab_link": true
    },
    "kernelspec": {
      "name": "python3",
      "display_name": "Python 3"
    },
    "language_info": {
      "name": "python"
    }
  },
  "cells": [
    {
      "cell_type": "markdown",
      "metadata": {
        "id": "view-in-github",
        "colab_type": "text"
      },
      "source": [
        "<a href=\"https://colab.research.google.com/github/yl4970/Kaggle-Posion_Mushrooms/blob/main/optuna_xgb.ipynb\" target=\"_parent\"><img src=\"https://colab.research.google.com/assets/colab-badge.svg\" alt=\"Open In Colab\"/></a>"
      ]
    },
    {
      "cell_type": "code",
      "source": [
        "# pip install optuna\n",
        "# pip install category-encoders"
      ],
      "metadata": {
        "id": "QkPlrOkJusyZ"
      },
      "execution_count": 8,
      "outputs": []
    },
    {
      "cell_type": "code",
      "source": [
        "import optuna\n",
        "import xgboost as xgb\n",
        "from sklearn.datasets import make_classification\n",
        "from sklearn.model_selection import train_test_split\n",
        "from sklearn.metrics import matthews_corrcoef\n",
        "\n",
        "from train_prep import *"
      ],
      "metadata": {
        "id": "WscOrAxLatOB"
      },
      "execution_count": 19,
      "outputs": []
    },

    {
      "cell_type": "code",
      "execution_count": null,
      "metadata": {
        "colab": {
          "base_uri": "https://localhost:8080/"
        },
        "id": "PIEph6lHt_hr",
        "outputId": "0ca83d22-32e0-4fad-acb4-993a32ce0a35"
      },
      "outputs": [
        {
          "output_type": "stream",
          "name": "stderr",
          "text": [
            "[I 2024-09-10 20:18:40,642] A new study created in memory with name: no-name-91b33d19-f6a2-47ce-aa2a-104c8e9da0af\n",
            "[I 2024-09-10 20:20:45,898] Trial 0 finished with value: 0.9312909566704621 and parameters: {'alpha': 0.00019640101454243607, 'colsample_bytree': 0.9284099642184097, 'eta': 0.019113489820449855, 'gamma': 0.027045996757111543, 'lambda': 1.2938759724721471e-08, 'max_depth': 13, 'min_child_weight': 5, 'reg_alpha': 7.667019722486657e-07, 'reg_lambda': 1.933019956912997e-08, 'subsample': 0.940136228985871}. Best is trial 0 with value: 0.9312909566704621.\n",
            "[I 2024-09-10 20:22:00,183] Trial 1 finished with value: 0.7656423862013898 and parameters: {'alpha': 0.0001367613482958315, 'colsample_bytree': 0.3959341079813814, 'eta': 0.027783773579381714, 'gamma': 0.2213489556606143, 'lambda': 2.4085582829815835e-06, 'max_depth': 19, 'min_child_weight': 9, 'reg_alpha': 1.1928105236251119e-08, 'reg_lambda': 4.144707331934054e-06, 'subsample': 0.3072042246615012}. Best is trial 0 with value: 0.9312909566704621.\n",
            "[I 2024-09-10 20:23:48,568] Trial 2 finished with value: 0.8728726502315635 and parameters: {'alpha': 0.00010318430753117292, 'colsample_bytree': 0.464512791233068, 'eta': 0.030620802594270392, 'gamma': 2.359555524335653e-08, 'lambda': 3.4764463454533047e-06, 'max_depth': 19, 'min_child_weight': 7, 'reg_alpha': 1.6182536033521378e-07, 'reg_lambda': 8.637350960966044e-08, 'subsample': 0.5541017897757212}. Best is trial 0 with value: 0.9312909566704621.\n",
            "[I 2024-09-10 20:26:17,346] Trial 3 finished with value: 0.9485680637897158 and parameters: {'alpha': 0.09917708209155868, 'colsample_bytree': 0.7920417390102045, 'eta': 0.03527620382611359, 'gamma': 0.00046437520340599127, 'lambda': 2.0579654118895294e-08, 'max_depth': 21, 'min_child_weight': 10, 'reg_alpha': 4.6078938140493324e-08, 'reg_lambda': 1.898691559676932e-07, 'subsample': 0.15457928745072638}. Best is trial 3 with value: 0.9485680637897158.\n",
            "[I 2024-09-10 20:26:53,125] Trial 4 finished with value: 0.39803633594870585 and parameters: {'alpha': 1.1720588906478516e-06, 'colsample_bytree': 0.15831689393727877, 'eta': 0.01641536760469881, 'gamma': 3.0594363140646812e-06, 'lambda': 7.78250417848531e-05, 'max_depth': 17, 'min_child_weight': 4, 'reg_alpha': 5.05842686146143e-08, 'reg_lambda': 7.575123429514419e-08, 'subsample': 0.1716322946270591}. Best is trial 3 with value: 0.9485680637897158.\n",
            "[I 2024-09-10 20:29:44,962] Trial 5 finished with value: 0.9655388962644104 and parameters: {'alpha': 0.001060576592150936, 'colsample_bytree': 0.8447493407442132, 'eta': 0.020260922850736, 'gamma': 3.7053949922740556e-08, 'lambda': 0.000196243529304947, 'max_depth': 19, 'min_child_weight': 4, 'reg_alpha': 6.326896037338516e-08, 'reg_lambda': 9.970858371604447e-08, 'subsample': 0.5345945090093761}. Best is trial 5 with value: 0.9655388962644104.\n",
            "[I 2024-09-10 20:30:55,254] Trial 6 finished with value: 0.7641465376486976 and parameters: {'alpha': 1.0489638899461755e-07, 'colsample_bytree': 0.34065936182673434, 'eta': 0.02671984648232682, 'gamma': 0.0019017645991098048, 'lambda': 0.00020457589919948272, 'max_depth': 15, 'min_child_weight': 10, 'reg_alpha': 2.9798198393573526e-07, 'reg_lambda': 3.647668999553509e-06, 'subsample': 0.9242253061827828}. Best is trial 5 with value: 0.9655388962644104.\n",
            "[I 2024-09-10 20:32:57,005] Trial 7 finished with value: 0.9502363620298855 and parameters: {'alpha': 3.2287450644131976e-06, 'colsample_bytree': 0.6674028724459922, 'eta': 0.0363342728622677, 'gamma': 0.07993889706202588, 'lambda': 1.64964087153335e-08, 'max_depth': 17, 'min_child_weight': 3, 'reg_alpha': 3.982956818981306e-06, 'reg_lambda': 1.2690859340630632e-07, 'subsample': 0.9197706120682051}. Best is trial 5 with value: 0.9655388962644104.\n",
            "[I 2024-09-10 20:34:09,995] Trial 8 finished with value: 0.7647429903049102 and parameters: {'alpha': 0.00036289286811179764, 'colsample_bytree': 0.3588866434953616, 'eta': 0.026952531975834873, 'gamma': 0.03136422346927776, 'lambda': 1.4511470187786503e-06, 'max_depth': 19, 'min_child_weight': 10, 'reg_alpha': 3.664856995599025e-08, 'reg_lambda': 1.6975719646619508e-08, 'subsample': 0.31637617298082904}. Best is trial 5 with value: 0.9655388962644104.\n",
            "[I 2024-09-10 20:35:29,722] Trial 9 finished with value: 0.6969009706199059 and parameters: {'alpha': 0.00032730795636379755, 'colsample_bytree': 0.31704666848231616, 'eta': 0.010213249057189512, 'gamma': 1.4617369894062427e-06, 'lambda': 1.2142077005375885e-05, 'max_depth': 23, 'min_child_weight': 8, 'reg_alpha': 6.68647661017651e-07, 'reg_lambda': 4.790868451153559e-06, 'subsample': 0.6178168296007465}. Best is trial 5 with value: 0.9655388962644104.\n",
            "[I 2024-09-10 20:39:18,595] Trial 10 finished with value: 0.9774830825676509 and parameters: {'alpha': 0.09184495395202731, 'colsample_bytree': 0.999017976514069, 'eta': 0.0732728126014963, 'gamma': 2.8879561398333867e-08, 'lambda': 0.023717464326854554, 'max_depth': 23, 'min_child_weight': 2, 'reg_alpha': 8.197386277922217e-06, 'reg_lambda': 1.0122092291630847e-06, 'subsample': 0.7245993101505929}. Best is trial 10 with value: 0.9774830825676509.\n",
            "[I 2024-09-10 20:43:09,637] Trial 11 finished with value: 0.9775168121783026 and parameters: {'alpha': 0.10984354271934092, 'colsample_bytree': 0.977132483185235, 'eta': 0.08982222534814423, 'gamma': 2.4954998048914005e-08, 'lambda': 0.049500519328588705, 'max_depth': 23, 'min_child_weight': 2, 'reg_alpha': 8.70820542224829e-06, 'reg_lambda': 9.618304995065448e-07, 'subsample': 0.72172921886107}. Best is trial 11 with value: 0.9775168121783026.\n",
            "[I 2024-09-10 20:47:00,230] Trial 12 finished with value: 0.9774622628753309 and parameters: {'alpha': 0.7528738224328, 'colsample_bytree': 0.9693991132602806, 'eta': 0.0965671632513108, 'gamma': 1.478389676520499e-06, 'lambda': 0.09670016725853291, 'max_depth': 23, 'min_child_weight': 2, 'reg_alpha': 8.577602051003873e-06, 'reg_lambda': 1.2181081903368393e-06, 'subsample': 0.7167482550435113}. Best is trial 11 with value: 0.9775168121783026.\n",
            "[I 2024-09-10 20:49:54,889] Trial 13 finished with value: 0.9605679744717965 and parameters: {'alpha': 0.024926126800870564, 'colsample_bytree': 0.7088730955247292, 'eta': 0.09430291548089602, 'gamma': 1.227347257175759e-08, 'lambda': 0.0753349113457528, 'max_depth': 23, 'min_child_weight': 2, 'reg_alpha': 3.166218785799312e-06, 'reg_lambda': 7.583213064609092e-07, 'subsample': 0.7586878390051068}. Best is trial 11 with value: 0.9775168121783026.\n",
            "[I 2024-09-10 20:53:22,820] Trial 14 finished with value: 0.9747446302789609 and parameters: {'alpha': 0.015336181036584838, 'colsample_bytree': 0.9971189785431074, 'eta': 0.05999028988522258, 'gamma': 1.758864195144091e-05, 'lambda': 0.0057643923280544535, 'max_depth': 21, 'min_child_weight': 6, 'reg_alpha': 8.83374168546944e-06, 'reg_lambda': 7.847442685303369e-07, 'subsample': 0.7740334957376424}. Best is trial 11 with value: 0.9775168121783026.\n",
            "[I 2024-09-10 20:55:43,446] Trial 15 finished with value: 0.9381302382412786 and parameters: {'alpha': 0.9564008268893438, 'colsample_bytree': 0.6177682256211509, 'eta': 0.06587001381145087, 'gamma': 1.3855050669861445e-07, 'lambda': 0.003592849138049402, 'max_depth': 21, 'min_child_weight': 3, 'reg_alpha': 2.2133221927059855e-06, 'reg_lambda': 1.6519542138238393e-06, 'subsample': 0.4686612405431908}. Best is trial 11 with value: 0.9775168121783026.\n",
            "[I 2024-09-10 20:59:13,677] Trial 16 finished with value: 0.9717632044557314 and parameters: {'alpha': 0.012586705503383361, 'colsample_bytree': 0.8194070894933158, 'eta': 0.05464399767893977, 'gamma': 2.727289702996018e-07, 'lambda': 0.005141141422051011, 'max_depth': 23, 'min_child_weight': 2, 'reg_alpha': 1.2592717450386461e-06, 'reg_lambda': 3.7233984343068515e-07, 'subsample': 0.663973197992888}. Best is trial 11 with value: 0.9775168121783026.\n",
            "[I 2024-09-10 21:02:38,480] Trial 17 finished with value: 0.9761646206043794 and parameters: {'alpha': 0.0024111301284316313, 'colsample_bytree': 0.8846751334356383, 'eta': 0.07399567433401291, 'gamma': 3.15963173741523e-05, 'lambda': 0.016581166516197086, 'max_depth': 21, 'min_child_weight': 4, 'reg_alpha': 5.829301789627574e-06, 'reg_lambda': 4.451052514598541e-07, 'subsample': 0.847808076287215}. Best is trial 11 with value: 0.9775168121783026.\n",
            "[I 2024-09-10 21:05:43,001] Trial 18 finished with value: 0.9563292714312521 and parameters: {'alpha': 0.1049189298020588, 'colsample_bytree': 0.7627030217078394, 'eta': 0.04455669802287666, 'gamma': 2.4044737996670465e-07, 'lambda': 0.0008850515466787244, 'max_depth': 23, 'min_child_weight': 6, 'reg_alpha': 1.7475737567332416e-06, 'reg_lambda': 1.633555702244147e-06, 'subsample': 0.44301412666486956}. Best is trial 11 with value: 0.9775168121783026.\n",
            "[I 2024-09-10 21:07:49,564] Trial 19 finished with value: 0.915340826088506 and parameters: {'alpha': 9.00991419775921e-06, 'colsample_bytree': 0.5233809066184146, 'eta': 0.07931945821997566, 'gamma': 8.809514306826293e-06, 'lambda': 0.02927953548904734, 'max_depth': 21, 'min_child_weight': 3, 'reg_alpha': 4.251945077840166e-06, 'reg_lambda': 7.99568966312241e-06, 'subsample': 0.6144580942436616}. Best is trial 11 with value: 0.9775168121783026.\n",
            "[I 2024-09-10 21:09:52,783] Trial 20 finished with value: 0.9468982368787313 and parameters: {'alpha': 0.18506393738857588, 'colsample_bytree': 0.897807067034432, 'eta': 0.04797716715676845, 'gamma': 0.00019584896318464395, 'lambda': 0.0009905038041673354, 'max_depth': 13, 'min_child_weight': 5, 'reg_alpha': 9.001382173061366e-07, 'reg_lambda': 2.283661956038307e-06, 'subsample': 0.8607880730240104}. Best is trial 11 with value: 0.9775168121783026.\n",
            "[I 2024-09-10 21:13:46,867] Trial 21 finished with value: 0.977575241664984 and parameters: {'alpha': 0.8858011003360904, 'colsample_bytree': 0.9759339009617183, 'eta': 0.09778696404788849, 'gamma': 1.052393019093109e-06, 'lambda': 0.04400290929482373, 'max_depth': 23, 'min_child_weight': 2, 'reg_alpha': 8.972198817547967e-06, 'reg_lambda': 8.746869927536739e-07, 'subsample': 0.726125345575605}. Best is trial 21 with value: 0.977575241664984.\n",
            "[I 2024-09-10 21:17:32,893] Trial 22 finished with value: 0.9774413011933715 and parameters: {'alpha': 0.004603042332980823, 'colsample_bytree': 0.9248687349373852, 'eta': 0.07964340208950055, 'gamma': 9.865150799073937e-08, 'lambda': 0.018169466659007268, 'max_depth': 23, 'min_child_weight': 2, 'reg_alpha': 9.515226470227906e-06, 'reg_lambda': 6.329522895481873e-07, 'subsample': 0.8074020404031916}. Best is trial 21 with value: 0.977575241664984.\n"
          ]
        }
      ],
      "source": [
        "def objective(trial, X, y):\n",
        "\n",
        "    X_train, X_test, y_train, y_test = train_test_split(X, y, test_size=0.2, random_state=RANDOM_STATE)\n",
        "\n",
        "    params = {\n",
        "            'objective': 'binary:logistic',\n",
        "            'n_estimators': 300,\n",
        "            'alpha': trial.suggest_loguniform('alpha', 1e-8, 1.0),\n",
        "            'colsample_bytree': trial.suggest_uniform('colsample_bytree', 0.1, 1.0),\n",
        "            'eta': trial.suggest_loguniform('eta', 0.01, 0.1),\n",
        "            'gamma': trial.suggest_loguniform('gamma', 1e-8, 1.0),\n",
        "            'lambda': trial.suggest_loguniform('lambda', 1e-8, 0.1),\n",
        "            'max_depth': trial.suggest_int(\"max_depth\", 13, 23, step=2),\n",
        "            'min_child_weight':  trial.suggest_int(\"min_child_weight\", 2, 10),\n",
        "            'reg_alpha': trial.suggest_loguniform('reg_alpha', 1e-8, 1e-5),\n",
        "            'reg_lambda': trial.suggest_loguniform('reg_lambda', 1e-8, 1e-5),\n",
        "            'subsample': trial.suggest_uniform('subsample', 0.1, 1.0),\n",
        "            \"verbosity\": 0,\n",
        "            \"tree_method\": \"exact\"\n",
        "            }\n",
        "\n",
        "    # Create the DMatrix\n",
        "    dtrain = xgb.DMatrix(X_train, label=y_train)\n",
        "\n",
        "    # Train the model\n",
        "    model = xgb.train(params, dtrain)\n",
        "\n",
        "    # Predict probabilities for the test set\n",
        "    dtest = xgb.DMatrix(X_test)\n",
        "    y_pred = model.predict(dtest)\n",
        "\n",
        "    # Convert results into binary\n",
        "    y_pred = y_pred.round(decimals=0)\n",
        "\n",
        "    # Calculate the MCC score\n",
        "    mcc = matthews_corrcoef(y_test, y_pred)\n",
        "\n",
        "    return mcc\n",
        "\n",
        "study = optuna.create_study(direction='maximize')\n",
        "func = lambda trial: objective(trial, X_enc, y)\n",
        "study.optimize(func, n_trials=100)\n",
        "\n",
        "# Print the best MCC score and the best parameters\n",
        "print('Best MCC:', study.best_value)\n",
        "print('Best Params:', study.best_params)\n"
      ]
    },
    {
      "cell_type": "code",
      "source": [],
      "metadata": {
        "id": "EjvILw_-ux7W"
      },
      "execution_count": 7,
      "outputs": []
    },
    {
      "cell_type": "code",
      "source": [],
      "metadata": {
        "id": "tHynmchBvBfu"
      },
      "execution_count": null,
      "outputs": []
    }
  ]
}
